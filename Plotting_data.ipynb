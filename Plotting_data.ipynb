{
 "cells": [
  {
   "cell_type": "code",
   "execution_count": 22,
   "metadata": {},
   "outputs": [
    {
     "data": {
      "text/plain": [
       "1118936"
      ]
     },
     "execution_count": 22,
     "metadata": {},
     "output_type": "execute_result"
    }
   ],
   "source": [
    "import pandas as pd\n",
    "import numpy as np\n",
    "\n",
    "f = pd.read_csv('C:/Users/lpb20/Documents/NAEI/CO.csv',skiprows=6,header=None)\n",
    "\n",
    "f.size"
   ]
  },
  {
   "cell_type": "code",
   "execution_count": 28,
   "metadata": {},
   "outputs": [
    {
     "data": {
      "text/plain": [
       "(array([[5.240e+02, 0.000e+00, 0.000e+00, ..., 0.000e+00, 0.000e+00,\n",
       "         0.000e+00],\n",
       "        [5.290e+02, 0.000e+00, 0.000e+00, ..., 0.000e+00, 0.000e+00,\n",
       "         0.000e+00],\n",
       "        [5.200e+02, 0.000e+00, 0.000e+00, ..., 0.000e+00, 0.000e+00,\n",
       "         0.000e+00],\n",
       "        ...,\n",
       "        [1.116e+03, 0.000e+00, 0.000e+00, ..., 0.000e+00, 0.000e+00,\n",
       "         0.000e+00],\n",
       "        [1.124e+03, 0.000e+00, 0.000e+00, ..., 0.000e+00, 0.000e+00,\n",
       "         0.000e+00],\n",
       "        [1.123e+03, 1.000e+00, 0.000e+00, ..., 0.000e+00, 0.000e+00,\n",
       "         0.000e+00]]),\n",
       " array([   0,   10,   20,   30,   40,   50,   60,   70,   80,   90,  100,\n",
       "         110,  120,  130,  140,  150,  160,  170,  180,  190,  200,  210,\n",
       "         220,  230,  240,  250,  260,  270,  280,  290,  300,  310,  320,\n",
       "         330,  340,  350,  360,  370,  380,  390,  400,  410,  420,  430,\n",
       "         440,  450,  460,  470,  480,  490,  500,  510,  520,  530,  540,\n",
       "         550,  560,  570,  580,  590,  600,  610,  620,  630,  640,  650,\n",
       "         660,  670,  680,  690,  700,  710,  720,  730,  740,  750,  760,\n",
       "         770,  780,  790,  800,  810,  820,  830,  840,  850,  860,  870,\n",
       "         880,  890,  900,  910,  920,  930,  940,  950,  960,  970,  980,\n",
       "         990, 1000, 1010, 1020, 1030, 1040, 1050, 1060, 1070, 1080, 1090,\n",
       "        1100, 1110, 1120, 1130, 1140, 1150, 1160, 1170, 1180, 1190, 1200,\n",
       "        1210, 1220, 1230, 1240, 1250, 1260, 1270, 1280, 1290, 1300, 1310,\n",
       "        1320, 1330, 1340, 1350, 1360, 1370, 1380, 1390, 1400, 1410, 1420,\n",
       "        1430, 1440, 1450, 1460, 1470, 1480, 1490, 1500, 1510, 1520, 1530,\n",
       "        1540, 1550, 1560, 1570, 1580, 1590]),\n",
       " <a list of 812 BarContainer objects>)"
      ]
     },
     "execution_count": 28,
     "metadata": {},
     "output_type": "execute_result"
    },
    {
     "data": {
      "image/png": "[encoded data removed]",
      "text/plain": [
       "<Figure size 432x288 with 1 Axes>"
      ]
     },
     "metadata": {
      "needs_background": "light"
     },
     "output_type": "display_data"
    }
   ],
   "source": [
    "bin_list = np.arange(0,1600,10)\n",
    "#bin_list\n",
    "plt.hist(f,bins = bin_list)\n",
    "#plt.show()"
   ]
  },
  {
   "cell_type": "code",
   "execution_count": 10,
   "metadata": {},
   "outputs": [
    {
     "name": "stderr",
     "output_type": "stream",
     "text": [
      "<ipython-input-10-7a0d3a849c0b>:23: MatplotlibDeprecationWarning: shading='flat' when X and Y have the same dimensions as C is deprecated since 3.3.  Either specify the corners of the quadrilaterals with X and Y, or pass shading='auto', 'nearest' or 'gouraud', or set rcParams['pcolor.shading'].  This will become an error two minor releases later.\n",
      "  plt.pcolor(X,Y,f,cmap = hot2, vmax = 16)#,norm = matplotlib.colors.LogNorm())\n"
     ]
    },
    {
     "data": {
      "text/plain": [
       "<matplotlib.collections.PolyCollection at 0xb97f5e0>"
      ]
     },
     "execution_count": 10,
     "metadata": {},
     "output_type": "execute_result"
    },
    {
     "data": {
      "image/png": "[encoded data removed]",
      "text/plain": [
       "<Figure size 432x288 with 1 Axes>"
      ]
     },
     "metadata": {
      "needs_background": "light"
     },
     "output_type": "display_data"
    }
   ],
   "source": [
    "f[f<16] = 0\n",
    "f\n",
    "import matplotlib.pyplot as plt\n",
    "import matplotlib.colors as mcolors\n",
    "import matplotlib\n",
    "import matplotlib.pyplot as pl\n",
    "from matplotlib import cm\n",
    "X, Y  = np.meshgrid(f.columns,-f.index)\n",
    "cmap = plt.cm.jet\n",
    "hot2 = pl.cm.get_cmap('hot',20)\n",
    "#cmaplist = [cmap(i) for i in range(cmap.N)]\n",
    "#for i in range(200):\n",
    "#    cmaplist[i]  = (1.0,1.0,1.0,1.0)\n",
    "#cmaplist[0] = (1.0,1.0,1.0,1.0)\n",
    "#cmap = mcolors.LinearSegmentedColormap.from_list('Custom cmap', cmaplist, cmap.N)\n",
    "#cmap(255)\n",
    "x = 25\n",
    "lower = plt.cm.seismic(np.linspace(0, x, n))\n",
    "middle = plt.cm.seismic(np.ones(50)*0.5)\n",
    "upper = plt.cm.seismic(np.linspace(1-x, 1, n))\n",
    "colors = np.vstack((lower, white, upper))\n",
    "tmap = matplotlib.colors.LinearSegmentedColormap.from_list('terrain_map_white', colors)\n",
    "#plt.imshow(f, cmap = tmap)\n",
    "plt.pcolor(X,Y,f,cmap = hot2, vmax = 16)#,norm = matplotlib.colors.LogNorm())\n",
    "#plt.colorbar(im)"
   ]
  },
  {
   "cell_type": "code",
   "execution_count": 3,
   "metadata": {},
   "outputs": [
    {
     "data": {
      "image/png": "[encoded data removed]",
      "text/plain": [
       "<Figure size 432x288 with 2 Axes>"
      ]
     },
     "metadata": {
      "needs_background": "light"
     },
     "output_type": "display_data"
    }
   ],
   "source": [
    "import numpy as np\n",
    "import matplotlib.pyplot as plt\n",
    "import matplotlib.colors\n",
    "\n",
    "n=50\n",
    "x = 0.5\n",
    "lower = plt.cm.seismic(np.linspace(0, x, n))\n",
    "white = plt.cm.seismic(np.ones(100)*0.5)\n",
    "upper = plt.cm.seismic(np.linspace(1-x, 1, n))\n",
    "colors = np.vstack((lower, white, upper))\n",
    "tmap = matplotlib.colors.LinearSegmentedColormap.from_list('terrain_map_white', colors)\n",
    "\n",
    "x = np.linspace(0,10)\n",
    "X,Y = np.meshgrid(x,x)\n",
    "z = np.sin(X) * np.cos(Y*0.4)\n",
    "\n",
    "fig, ax = plt.subplots()\n",
    "im = ax.imshow(z, cmap=tmap)    \n",
    "plt.colorbar(im)\n",
    "\n",
    "plt.show()"
   ]
  },
  {
   "cell_type": "code",
   "execution_count": 17,
   "metadata": {},
   "outputs": [
    {
     "data": {
      "image/png": "[encoded data removed]",
      "text/plain": [
       "<Figure size 432x288 with 1 Axes>"
      ]
     },
     "metadata": {
      "needs_background": "light"
     },
     "output_type": "display_data"
    }
   ],
   "source": [
    "from matplotlib import cm\n",
    "viridis = cm.get_cmap('viridis', 256)\n",
    "from matplotlib.colors import ListedColormap, LinearSegmentedColormap\n",
    "newcolors = viridis(np.linspace(0, 1, 256))\n",
    "pink = np.array([248/256, 24/256, 148/256, 1])\n",
    "newcolors[:25, :] = pink\n",
    "newcmp = ListedColormap(newcolors)\n",
    "\n",
    "plt.pcolormesh(f, cmap=cmap, rasterized=True)#, vmin=-4, vmax=4)\n",
    "fig.colorbar(psm, ax=ax)\n",
    "\n",
    "plt.show()\n"
   ]
  }
 ],
 "metadata": {
  "kernelspec": {
   "display_name": "Python 3",
   "language": "python",
   "name": "python3"
  },
  "language_info": {
   "codemirror_mode": {
    "name": "ipython",
    "version": 3
   },
   "file_extension": ".py",
   "mimetype": "text/x-python",
   "name": "python",
   "nbconvert_exporter": "python",
   "pygments_lexer": "ipython3",
   "version": "3.8.3"
  }
 },
 "nbformat": 4,
 "nbformat_minor": 4
}
